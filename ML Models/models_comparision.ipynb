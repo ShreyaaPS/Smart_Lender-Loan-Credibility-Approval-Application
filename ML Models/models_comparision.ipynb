{
  "metadata": {
    "kernelspec": {
      "language": "python",
      "display_name": "Python 3",
      "name": "python3"
    },
    "language_info": {
      "name": "python",
      "version": "3.7.10",
      "mimetype": "text/x-python",
      "codemirror_mode": {
        "name": "ipython",
        "version": 3
      },
      "pygments_lexer": "ipython3",
      "nbconvert_exporter": "python",
      "file_extension": ".py"
    },
    "colab": {
      "provenance": []
    }
  },
  "nbformat_minor": 0,
  "nbformat": 4,
  "cells": [
    {
      "cell_type": "code",
      "source": [
        "import numpy as np\n",
        "import pandas as pd\n",
        "\n",
        "from sklearn.preprocessing import MinMaxScaler\n",
        "from sklearn.model_selection import train_test_split\n",
        "from sklearn.metrics import accuracy_score\n",
        "\n",
        "from sklearn.neighbors import KNeighborsClassifier\n",
        "from sklearn.tree import DecisionTreeClassifier\n",
        "from sklearn.ensemble import RandomForestClassifier\n",
        "from xgboost import XGBClassifier\n",
        "from sklearn.ensemble import VotingClassifier\n",
        "\n",
        "from sklearn.model_selection import GridSearchCV\n",
        "from imblearn.over_sampling import SMOTE\n",
        "\n",
        "import pickle"
      ],
      "metadata": {
        "id": "0tAGJPoeKrfI",
        "execution": {
          "iopub.status.busy": "2022-03-08T02:28:35.419717Z",
          "iopub.execute_input": "2022-03-08T02:28:35.420087Z",
          "iopub.status.idle": "2022-03-08T02:28:36.954209Z",
          "shell.execute_reply.started": "2022-03-08T02:28:35.419989Z",
          "shell.execute_reply": "2022-03-08T02:28:36.953237Z"
        },
        "trusted": true
      },
      "execution_count": 248,
      "outputs": []
    },
    {
      "cell_type": "code",
      "source": [
        "data=pd.read_csv('loan_prediction.csv')"
      ],
      "metadata": {
        "id": "rNvs9xVE-XCP"
      },
      "execution_count": 249,
      "outputs": []
    },
    {
      "cell_type": "code",
      "source": [
        "data = data.drop(['Loan_ID'], axis = 1)"
      ],
      "metadata": {
        "id": "sAR7E0aEDC0X"
      },
      "execution_count": 250,
      "outputs": []
    },
    {
      "cell_type": "code",
      "source": [
        "data['Gender'].fillna(data['Gender'].mode()[0],inplace=True)\n",
        "data['Married'].fillna(data['Married'].mode()[0],inplace=True)\n",
        "data['Dependents'].fillna(data['Dependents'].mode()[0],inplace=True)\n",
        "data['Self_Employed'].fillna(data['Self_Employed'].mode()[0],inplace=True)\n",
        "data['Credit_History'].fillna(data['Credit_History'].mode()[0],inplace=True)\n",
        "data['Loan_Amount_Term'].fillna(data['Loan_Amount_Term'].mode()[0],inplace=True)\n",
        "\n",
        "data['LoanAmount'].fillna(data['LoanAmount'].mean(),inplace=True)"
      ],
      "metadata": {
        "id": "Ni4alhlrD0y_"
      },
      "execution_count": 251,
      "outputs": []
    },
    {
      "cell_type": "code",
      "source": [
        "data = pd.get_dummies(data)\n",
        "\n",
        "# Drop columns\n",
        "data = data.drop(['Gender_Female', 'Married_No', 'Education_Not Graduate', \n",
        "              'Self_Employed_No', 'Loan_Status_N'], axis = 1)\n",
        "\n",
        "# Rename columns name\n",
        "new = {'Gender_Male': 'Gender', 'Married_Yes': 'Married', \n",
        "       'Education_Graduate': 'Education', 'Self_Employed_Yes': 'Self_Employed',\n",
        "       'Loan_Status_Y': 'Loan_Status'}\n",
        "       \n",
        "data.rename(columns=new, inplace=True)"
      ],
      "metadata": {
        "id": "WvXjFNAnFX-4"
      },
      "execution_count": 252,
      "outputs": []
    },
    {
      "cell_type": "code",
      "source": [
        "Q1 = data.quantile(0.25)\n",
        "Q3 = data.quantile(0.75)\n",
        "IQR = Q3 - Q1\n",
        "\n",
        "data = data[~((data < (Q1 - 1.5 * IQR)) |(data > (Q3 + 1.5 * IQR))).any(axis=1)]"
      ],
      "metadata": {
        "id": "bECGNg3lG_23"
      },
      "execution_count": 253,
      "outputs": []
    },
    {
      "cell_type": "code",
      "source": [
        "data[['ApplicantIncome']] = np.sqrt(data[['ApplicantIncome']])\n",
        "data[['CoapplicantIncome']] = np.sqrt(data[['CoapplicantIncome']])\n",
        "data[['LoanAmount']] = np.sqrt(data[['LoanAmount']])"
      ],
      "metadata": {
        "id": "FYb2s-qdE_jz"
      },
      "execution_count": 254,
      "outputs": []
    },
    {
      "cell_type": "code",
      "source": [
        "X = data.drop([\"Loan_Status\"], axis=1)\n",
        "y = data[\"Loan_Status\"]"
      ],
      "metadata": {
        "id": "RKwxq6IaHW4U"
      },
      "execution_count": 255,
      "outputs": []
    },
    {
      "cell_type": "code",
      "source": [
        "X"
      ],
      "metadata": {
        "colab": {
          "base_uri": "https://localhost:8080/",
          "height": 488
        },
        "id": "ZuB-WDFhIB7F",
        "outputId": "d3cb2998-68a1-4df7-8458-fc973776a3da"
      },
      "execution_count": 256,
      "outputs": [
        {
          "output_type": "execute_result",
          "data": {
            "text/plain": [
              "     ApplicantIncome  CoapplicantIncome  LoanAmount  Loan_Amount_Term  \\\n",
              "0          76.478755           0.000000   12.100089             360.0   \n",
              "4          77.459667           0.000000   11.874342             360.0   \n",
              "13         43.046487          53.291650   10.677078             360.0   \n",
              "15         70.356236           0.000000   11.180340             360.0   \n",
              "19         50.990195          59.160798   10.723805             360.0   \n",
              "..               ...                ...         ...               ...   \n",
              "579        56.409219          54.009258   12.688578             360.0   \n",
              "586        47.927028          39.012818   10.198039             360.0   \n",
              "588        68.920244           0.000000    9.695360             360.0   \n",
              "603        60.630026          65.582010   13.114877             360.0   \n",
              "608        56.850682          44.158804   10.392305             360.0   \n",
              "\n",
              "     Credit_History  Gender  Married  Dependents_0  Dependents_1  \\\n",
              "0               1.0       1        0             1             0   \n",
              "4               1.0       1        0             1             0   \n",
              "13              1.0       1        0             1             0   \n",
              "15              1.0       1        0             1             0   \n",
              "19              1.0       1        1             1             0   \n",
              "..              ...     ...      ...           ...           ...   \n",
              "579             1.0       1        0             1             0   \n",
              "586             1.0       1        1             1             0   \n",
              "588             1.0       1        0             1             0   \n",
              "603             1.0       1        0             1             0   \n",
              "608             1.0       1        1             1             0   \n",
              "\n",
              "     Dependents_2  Dependents_3+  Education  Self_Employed  \\\n",
              "0               0              0          1              0   \n",
              "4               0              0          1              0   \n",
              "13              0              0          1              0   \n",
              "15              0              0          1              0   \n",
              "19              0              0          1              0   \n",
              "..            ...            ...        ...            ...   \n",
              "579             0              0          1              0   \n",
              "586             0              0          1              0   \n",
              "588             0              0          1              0   \n",
              "603             0              0          1              0   \n",
              "608             0              0          1              0   \n",
              "\n",
              "     Property_Area_Rural  Property_Area_Semiurban  Property_Area_Urban  \n",
              "0                      0                        0                    1  \n",
              "4                      0                        0                    1  \n",
              "13                     1                        0                    0  \n",
              "15                     0                        0                    1  \n",
              "19                     0                        0                    1  \n",
              "..                   ...                      ...                  ...  \n",
              "579                    0                        0                    1  \n",
              "586                    0                        0                    1  \n",
              "588                    0                        1                    0  \n",
              "603                    1                        0                    0  \n",
              "608                    1                        0                    0  \n",
              "\n",
              "[136 rows x 16 columns]"
            ],
            "text/html": [
              "\n",
              "  <div id=\"df-30f62fc0-7fbc-4e0a-834e-668c527ac47e\">\n",
              "    <div class=\"colab-df-container\">\n",
              "      <div>\n",
              "<style scoped>\n",
              "    .dataframe tbody tr th:only-of-type {\n",
              "        vertical-align: middle;\n",
              "    }\n",
              "\n",
              "    .dataframe tbody tr th {\n",
              "        vertical-align: top;\n",
              "    }\n",
              "\n",
              "    .dataframe thead th {\n",
              "        text-align: right;\n",
              "    }\n",
              "</style>\n",
              "<table border=\"1\" class=\"dataframe\">\n",
              "  <thead>\n",
              "    <tr style=\"text-align: right;\">\n",
              "      <th></th>\n",
              "      <th>ApplicantIncome</th>\n",
              "      <th>CoapplicantIncome</th>\n",
              "      <th>LoanAmount</th>\n",
              "      <th>Loan_Amount_Term</th>\n",
              "      <th>Credit_History</th>\n",
              "      <th>Gender</th>\n",
              "      <th>Married</th>\n",
              "      <th>Dependents_0</th>\n",
              "      <th>Dependents_1</th>\n",
              "      <th>Dependents_2</th>\n",
              "      <th>Dependents_3+</th>\n",
              "      <th>Education</th>\n",
              "      <th>Self_Employed</th>\n",
              "      <th>Property_Area_Rural</th>\n",
              "      <th>Property_Area_Semiurban</th>\n",
              "      <th>Property_Area_Urban</th>\n",
              "    </tr>\n",
              "  </thead>\n",
              "  <tbody>\n",
              "    <tr>\n",
              "      <th>0</th>\n",
              "      <td>76.478755</td>\n",
              "      <td>0.000000</td>\n",
              "      <td>12.100089</td>\n",
              "      <td>360.0</td>\n",
              "      <td>1.0</td>\n",
              "      <td>1</td>\n",
              "      <td>0</td>\n",
              "      <td>1</td>\n",
              "      <td>0</td>\n",
              "      <td>0</td>\n",
              "      <td>0</td>\n",
              "      <td>1</td>\n",
              "      <td>0</td>\n",
              "      <td>0</td>\n",
              "      <td>0</td>\n",
              "      <td>1</td>\n",
              "    </tr>\n",
              "    <tr>\n",
              "      <th>4</th>\n",
              "      <td>77.459667</td>\n",
              "      <td>0.000000</td>\n",
              "      <td>11.874342</td>\n",
              "      <td>360.0</td>\n",
              "      <td>1.0</td>\n",
              "      <td>1</td>\n",
              "      <td>0</td>\n",
              "      <td>1</td>\n",
              "      <td>0</td>\n",
              "      <td>0</td>\n",
              "      <td>0</td>\n",
              "      <td>1</td>\n",
              "      <td>0</td>\n",
              "      <td>0</td>\n",
              "      <td>0</td>\n",
              "      <td>1</td>\n",
              "    </tr>\n",
              "    <tr>\n",
              "      <th>13</th>\n",
              "      <td>43.046487</td>\n",
              "      <td>53.291650</td>\n",
              "      <td>10.677078</td>\n",
              "      <td>360.0</td>\n",
              "      <td>1.0</td>\n",
              "      <td>1</td>\n",
              "      <td>0</td>\n",
              "      <td>1</td>\n",
              "      <td>0</td>\n",
              "      <td>0</td>\n",
              "      <td>0</td>\n",
              "      <td>1</td>\n",
              "      <td>0</td>\n",
              "      <td>1</td>\n",
              "      <td>0</td>\n",
              "      <td>0</td>\n",
              "    </tr>\n",
              "    <tr>\n",
              "      <th>15</th>\n",
              "      <td>70.356236</td>\n",
              "      <td>0.000000</td>\n",
              "      <td>11.180340</td>\n",
              "      <td>360.0</td>\n",
              "      <td>1.0</td>\n",
              "      <td>1</td>\n",
              "      <td>0</td>\n",
              "      <td>1</td>\n",
              "      <td>0</td>\n",
              "      <td>0</td>\n",
              "      <td>0</td>\n",
              "      <td>1</td>\n",
              "      <td>0</td>\n",
              "      <td>0</td>\n",
              "      <td>0</td>\n",
              "      <td>1</td>\n",
              "    </tr>\n",
              "    <tr>\n",
              "      <th>19</th>\n",
              "      <td>50.990195</td>\n",
              "      <td>59.160798</td>\n",
              "      <td>10.723805</td>\n",
              "      <td>360.0</td>\n",
              "      <td>1.0</td>\n",
              "      <td>1</td>\n",
              "      <td>1</td>\n",
              "      <td>1</td>\n",
              "      <td>0</td>\n",
              "      <td>0</td>\n",
              "      <td>0</td>\n",
              "      <td>1</td>\n",
              "      <td>0</td>\n",
              "      <td>0</td>\n",
              "      <td>0</td>\n",
              "      <td>1</td>\n",
              "    </tr>\n",
              "    <tr>\n",
              "      <th>...</th>\n",
              "      <td>...</td>\n",
              "      <td>...</td>\n",
              "      <td>...</td>\n",
              "      <td>...</td>\n",
              "      <td>...</td>\n",
              "      <td>...</td>\n",
              "      <td>...</td>\n",
              "      <td>...</td>\n",
              "      <td>...</td>\n",
              "      <td>...</td>\n",
              "      <td>...</td>\n",
              "      <td>...</td>\n",
              "      <td>...</td>\n",
              "      <td>...</td>\n",
              "      <td>...</td>\n",
              "      <td>...</td>\n",
              "    </tr>\n",
              "    <tr>\n",
              "      <th>579</th>\n",
              "      <td>56.409219</td>\n",
              "      <td>54.009258</td>\n",
              "      <td>12.688578</td>\n",
              "      <td>360.0</td>\n",
              "      <td>1.0</td>\n",
              "      <td>1</td>\n",
              "      <td>0</td>\n",
              "      <td>1</td>\n",
              "      <td>0</td>\n",
              "      <td>0</td>\n",
              "      <td>0</td>\n",
              "      <td>1</td>\n",
              "      <td>0</td>\n",
              "      <td>0</td>\n",
              "      <td>0</td>\n",
              "      <td>1</td>\n",
              "    </tr>\n",
              "    <tr>\n",
              "      <th>586</th>\n",
              "      <td>47.927028</td>\n",
              "      <td>39.012818</td>\n",
              "      <td>10.198039</td>\n",
              "      <td>360.0</td>\n",
              "      <td>1.0</td>\n",
              "      <td>1</td>\n",
              "      <td>1</td>\n",
              "      <td>1</td>\n",
              "      <td>0</td>\n",
              "      <td>0</td>\n",
              "      <td>0</td>\n",
              "      <td>1</td>\n",
              "      <td>0</td>\n",
              "      <td>0</td>\n",
              "      <td>0</td>\n",
              "      <td>1</td>\n",
              "    </tr>\n",
              "    <tr>\n",
              "      <th>588</th>\n",
              "      <td>68.920244</td>\n",
              "      <td>0.000000</td>\n",
              "      <td>9.695360</td>\n",
              "      <td>360.0</td>\n",
              "      <td>1.0</td>\n",
              "      <td>1</td>\n",
              "      <td>0</td>\n",
              "      <td>1</td>\n",
              "      <td>0</td>\n",
              "      <td>0</td>\n",
              "      <td>0</td>\n",
              "      <td>1</td>\n",
              "      <td>0</td>\n",
              "      <td>0</td>\n",
              "      <td>1</td>\n",
              "      <td>0</td>\n",
              "    </tr>\n",
              "    <tr>\n",
              "      <th>603</th>\n",
              "      <td>60.630026</td>\n",
              "      <td>65.582010</td>\n",
              "      <td>13.114877</td>\n",
              "      <td>360.0</td>\n",
              "      <td>1.0</td>\n",
              "      <td>1</td>\n",
              "      <td>0</td>\n",
              "      <td>1</td>\n",
              "      <td>0</td>\n",
              "      <td>0</td>\n",
              "      <td>0</td>\n",
              "      <td>1</td>\n",
              "      <td>0</td>\n",
              "      <td>1</td>\n",
              "      <td>0</td>\n",
              "      <td>0</td>\n",
              "    </tr>\n",
              "    <tr>\n",
              "      <th>608</th>\n",
              "      <td>56.850682</td>\n",
              "      <td>44.158804</td>\n",
              "      <td>10.392305</td>\n",
              "      <td>360.0</td>\n",
              "      <td>1.0</td>\n",
              "      <td>1</td>\n",
              "      <td>1</td>\n",
              "      <td>1</td>\n",
              "      <td>0</td>\n",
              "      <td>0</td>\n",
              "      <td>0</td>\n",
              "      <td>1</td>\n",
              "      <td>0</td>\n",
              "      <td>1</td>\n",
              "      <td>0</td>\n",
              "      <td>0</td>\n",
              "    </tr>\n",
              "  </tbody>\n",
              "</table>\n",
              "<p>136 rows × 16 columns</p>\n",
              "</div>\n",
              "      <button class=\"colab-df-convert\" onclick=\"convertToInteractive('df-30f62fc0-7fbc-4e0a-834e-668c527ac47e')\"\n",
              "              title=\"Convert this dataframe to an interactive table.\"\n",
              "              style=\"display:none;\">\n",
              "        \n",
              "  <svg xmlns=\"http://www.w3.org/2000/svg\" height=\"24px\"viewBox=\"0 0 24 24\"\n",
              "       width=\"24px\">\n",
              "    <path d=\"M0 0h24v24H0V0z\" fill=\"none\"/>\n",
              "    <path d=\"M18.56 5.44l.94 2.06.94-2.06 2.06-.94-2.06-.94-.94-2.06-.94 2.06-2.06.94zm-11 1L8.5 8.5l.94-2.06 2.06-.94-2.06-.94L8.5 2.5l-.94 2.06-2.06.94zm10 10l.94 2.06.94-2.06 2.06-.94-2.06-.94-.94-2.06-.94 2.06-2.06.94z\"/><path d=\"M17.41 7.96l-1.37-1.37c-.4-.4-.92-.59-1.43-.59-.52 0-1.04.2-1.43.59L10.3 9.45l-7.72 7.72c-.78.78-.78 2.05 0 2.83L4 21.41c.39.39.9.59 1.41.59.51 0 1.02-.2 1.41-.59l7.78-7.78 2.81-2.81c.8-.78.8-2.07 0-2.86zM5.41 20L4 18.59l7.72-7.72 1.47 1.35L5.41 20z\"/>\n",
              "  </svg>\n",
              "      </button>\n",
              "      \n",
              "  <style>\n",
              "    .colab-df-container {\n",
              "      display:flex;\n",
              "      flex-wrap:wrap;\n",
              "      gap: 12px;\n",
              "    }\n",
              "\n",
              "    .colab-df-convert {\n",
              "      background-color: #E8F0FE;\n",
              "      border: none;\n",
              "      border-radius: 50%;\n",
              "      cursor: pointer;\n",
              "      display: none;\n",
              "      fill: #1967D2;\n",
              "      height: 32px;\n",
              "      padding: 0 0 0 0;\n",
              "      width: 32px;\n",
              "    }\n",
              "\n",
              "    .colab-df-convert:hover {\n",
              "      background-color: #E2EBFA;\n",
              "      box-shadow: 0px 1px 2px rgba(60, 64, 67, 0.3), 0px 1px 3px 1px rgba(60, 64, 67, 0.15);\n",
              "      fill: #174EA6;\n",
              "    }\n",
              "\n",
              "    [theme=dark] .colab-df-convert {\n",
              "      background-color: #3B4455;\n",
              "      fill: #D2E3FC;\n",
              "    }\n",
              "\n",
              "    [theme=dark] .colab-df-convert:hover {\n",
              "      background-color: #434B5C;\n",
              "      box-shadow: 0px 1px 3px 1px rgba(0, 0, 0, 0.15);\n",
              "      filter: drop-shadow(0px 1px 2px rgba(0, 0, 0, 0.3));\n",
              "      fill: #FFFFFF;\n",
              "    }\n",
              "  </style>\n",
              "\n",
              "      <script>\n",
              "        const buttonEl =\n",
              "          document.querySelector('#df-30f62fc0-7fbc-4e0a-834e-668c527ac47e button.colab-df-convert');\n",
              "        buttonEl.style.display =\n",
              "          google.colab.kernel.accessAllowed ? 'block' : 'none';\n",
              "\n",
              "        async function convertToInteractive(key) {\n",
              "          const element = document.querySelector('#df-30f62fc0-7fbc-4e0a-834e-668c527ac47e');\n",
              "          const dataTable =\n",
              "            await google.colab.kernel.invokeFunction('convertToInteractive',\n",
              "                                                     [key], {});\n",
              "          if (!dataTable) return;\n",
              "\n",
              "          const docLinkHtml = 'Like what you see? Visit the ' +\n",
              "            '<a target=\"_blank\" href=https://colab.research.google.com/notebooks/data_table.ipynb>data table notebook</a>'\n",
              "            + ' to learn more about interactive tables.';\n",
              "          element.innerHTML = '';\n",
              "          dataTable['output_type'] = 'display_data';\n",
              "          await google.colab.output.renderOutput(dataTable, element);\n",
              "          const docLink = document.createElement('div');\n",
              "          docLink.innerHTML = docLinkHtml;\n",
              "          element.appendChild(docLink);\n",
              "        }\n",
              "      </script>\n",
              "    </div>\n",
              "  </div>\n",
              "  "
            ]
          },
          "metadata": {},
          "execution_count": 256
        }
      ]
    },
    {
      "cell_type": "code",
      "source": [
        "X, y = SMOTE().fit_resample(X, y)"
      ],
      "metadata": {
        "id": "R_ryr0QZG60r"
      },
      "execution_count": 257,
      "outputs": []
    },
    {
      "cell_type": "code",
      "source": [
        "X = MinMaxScaler().fit_transform(X)"
      ],
      "metadata": {
        "id": "bDRfN6OPLVmx"
      },
      "execution_count": 258,
      "outputs": []
    },
    {
      "cell_type": "code",
      "source": [
        "X_train, X_test, y_train, y_test = train_test_split(X, y, test_size = 0.2, random_state = 0)"
      ],
      "metadata": {
        "id": "iJDf3Xd0JlKV"
      },
      "execution_count": 259,
      "outputs": []
    },
    {
      "cell_type": "code",
      "source": [
        "dt_model = pickle.load(open('dt_model.pkl', 'rb'))\n",
        "knn_model = pickle.load(open('knn_model.pkl', 'rb'))\n",
        "rf_model = pickle.load(open('rf_model.pkl', 'rb'))\n",
        "xg_model = pickle.load(open('xg_model.pkl', 'rb'))"
      ],
      "metadata": {
        "id": "zoj-bRJMC9II"
      },
      "execution_count": 260,
      "outputs": []
    },
    {
      "cell_type": "code",
      "source": [
        "dt_model.fit(X_train,y_train)"
      ],
      "metadata": {
        "colab": {
          "base_uri": "https://localhost:8080/"
        },
        "id": "5s04kPzJOy9w",
        "outputId": "66a8439b-c69b-43b0-ed44-a2bcbd6d7fac"
      },
      "execution_count": 261,
      "outputs": [
        {
          "output_type": "execute_result",
          "data": {
            "text/plain": [
              "DecisionTreeClassifier(max_depth=3, min_samples_leaf=35)"
            ]
          },
          "metadata": {},
          "execution_count": 261
        }
      ]
    },
    {
      "cell_type": "code",
      "source": [
        "dt_acc = dt_model.score(X_test,y_test)\n",
        "knn_acc = knn_model.score(X_test, y_test)\n",
        "rf_acc = rf_model.score(X_test, y_test)\n",
        "xg_acc = xg_model.score(X_test, y_test)"
      ],
      "metadata": {
        "id": "EtvDFy6dO9GY"
      },
      "execution_count": 262,
      "outputs": []
    },
    {
      "cell_type": "code",
      "source": [
        "estimators=[('knn', knn_model), ('rf', rf_model), ('dt', dt_model), ('xg', xg_model)]\n",
        "\n",
        "ensemble = VotingClassifier(estimators, voting='hard')"
      ],
      "metadata": {
        "id": "FCz1KXb15aVg"
      },
      "execution_count": 263,
      "outputs": []
    },
    {
      "cell_type": "code",
      "source": [
        "ensemble.fit(X_train, y_train)"
      ],
      "metadata": {
        "colab": {
          "base_uri": "https://localhost:8080/"
        },
        "id": "f1RR3oDLtUiO",
        "outputId": "876573d2-fc1d-4ded-d757-02ff316a35f0"
      },
      "execution_count": 264,
      "outputs": [
        {
          "output_type": "execute_result",
          "data": {
            "text/plain": [
              "VotingClassifier(estimators=[('knn', KNeighborsClassifier(n_neighbors=3)),\n",
              "                             ('rf',\n",
              "                              RandomForestClassifier(max_leaf_nodes=20,\n",
              "                                                     n_estimators=1000,\n",
              "                                                     random_state=1)),\n",
              "                             ('dt',\n",
              "                              DecisionTreeClassifier(max_depth=3,\n",
              "                                                     min_samples_leaf=35)),\n",
              "                             ('xg', XGBClassifier(max_depth=6, missing=nan))])"
            ]
          },
          "metadata": {},
          "execution_count": 264
        }
      ]
    },
    {
      "cell_type": "code",
      "source": [
        "ens_acc = ensemble.score(X_test, y_test)"
      ],
      "metadata": {
        "id": "SGzOLxRMArx0",
        "execution": {
          "iopub.status.busy": "2022-03-08T02:29:59.169277Z",
          "iopub.execute_input": "2022-03-08T02:29:59.169877Z",
          "iopub.status.idle": "2022-03-08T02:29:59.184409Z",
          "shell.execute_reply.started": "2022-03-08T02:29:59.169833Z",
          "shell.execute_reply": "2022-03-08T02:29:59.183302Z"
        },
        "trusted": true
      },
      "execution_count": 265,
      "outputs": []
    },
    {
      "cell_type": "code",
      "source": [
        "comp_acc = pd.DataFrame({'Model':['Decision Tree','K-Nearest Neighbours','Random Forest','XGBoost','Ensemble'],'Accuracy':[dt_acc,knn_acc,rf_acc,xg_acc,ens_acc]})\n",
        "print(comp_acc)"
      ],
      "metadata": {
        "id": "C_WOUmJ5FCRu",
        "colab": {
          "base_uri": "https://localhost:8080/"
        },
        "outputId": "d9d65ded-caa4-4499-ea5c-dfaf91cec5de"
      },
      "execution_count": 266,
      "outputs": [
        {
          "output_type": "stream",
          "name": "stdout",
          "text": [
            "                  Model  Accuracy\n",
            "0         Decision Tree  0.822222\n",
            "1  K-Nearest Neighbours  0.844444\n",
            "2         Random Forest  0.888889\n",
            "3               XGBoost  0.822222\n",
            "4              Ensemble  0.911111\n"
          ]
        }
      ]
    },
    {
      "cell_type": "code",
      "source": [
        "pickle.dump(ensemble,open(\"final_ens_model.pkl\",\"wb\"))"
      ],
      "metadata": {
        "id": "BIrq0-94UoJk"
      },
      "execution_count": 267,
      "outputs": []
    },
    {
      "cell_type": "code",
      "source": [
        "dt_model = pickle.load(open('final_ens_model.pkl', 'rb'))\n",
        "dt_acc = dt_model.score(X_test,y_test)\n",
        "dt_acc"
      ],
      "metadata": {
        "colab": {
          "base_uri": "https://localhost:8080/"
        },
        "id": "99NZc45VU2hk",
        "outputId": "cd037ad1-dfc1-46f3-b0ff-cc828f3455a9"
      },
      "execution_count": 268,
      "outputs": [
        {
          "output_type": "execute_result",
          "data": {
            "text/plain": [
              "0.9111111111111111"
            ]
          },
          "metadata": {},
          "execution_count": 268
        }
      ]
    }
  ]
}